{
 "cells": [
  {
   "cell_type": "code",
   "execution_count": 1,
   "metadata": {},
   "outputs": [],
   "source": [
    "import numpy as np"
   ]
  },
  {
   "cell_type": "markdown",
   "metadata": {},
   "source": [
    "## Reading parameters.out"
   ]
  },
  {
   "cell_type": "code",
   "execution_count": 61,
   "metadata": {},
   "outputs": [],
   "source": [
    "class ParametersOut:\n",
    "    def __init__(self, filename):\n",
    "        self.level_blocks = []\n",
    "        with open(filename, 'r') as f:\n",
    "            file = f.read()\n",
    "            lines = np.array(file.split('\\n'))\n",
    "            blank_line_indices = np.where('' == np.array(lines))[0]\n",
    "            n = len(blank_line_indices)\n",
    "            for i in range(n-2):\n",
    "                block = lines[blank_line_indices[i]+1:blank_line_indices[i+1]]\n",
    "                self.level_blocks.append(LevelBlock(block))\n",
    "    \n",
    "    \n",
    "class LevelBlock:\n",
    "    def __init__(self, lines):\n",
    "        num_lines = len(lines)\n",
    "        \n",
    "        first_line = lines[0].split()\n",
    "        Jpi = first_line[2]\n",
    "        self.J  = float(Jpi[:-1])\n",
    "        self.pi = 1 if Jpi[-1] == '+' else -1\n",
    "        self.E_level = float(first_line[5])\n",
    "        self.E_level_units = first_line[6]\n",
    "        \n",
    "        self.lines = []\n",
    "        for i in range(1, num_lines):\n",
    "            self.lines.append(Line(lines[i]))\n",
    "            \n",
    "                \n",
    "                \n",
    "class Line:\n",
    "    def __init__(self, line):\n",
    "        self.values = {}\n",
    "        self.line = np.array(line.split())\n",
    "        ii = np.where('=' == self.line)[0] - 1\n",
    "        n = len(ii)\n",
    "        for j in range(n-1):\n",
    "            self.values[self.line[ii[j]]] = ' '.join(self.line[ii[j]+2:ii[j+1]])\n",
    "        self.values[self.line[ii[n-1]]] = ' '.join(self.line[ii[n-1]+2:])"
   ]
  },
  {
   "cell_type": "code",
   "execution_count": 62,
   "metadata": {},
   "outputs": [],
   "source": [
    "po = ParametersOut('output/parameters.out')"
   ]
  },
  {
   "cell_type": "code",
   "execution_count": 63,
   "metadata": {
    "scrolled": true
   },
   "outputs": [],
   "source": [
    "# for lb in po.level_blocks:\n",
    "#     for l in lb.lines:\n",
    "#         for v in l.values:\n",
    "#             print(v, l.values[v])"
   ]
  },
  {
   "cell_type": "markdown",
   "metadata": {},
   "source": [
    "## Reading param.errors"
   ]
  },
  {
   "cell_type": "code",
   "execution_count": 82,
   "metadata": {},
   "outputs": [],
   "source": [
    "with open('output/param.errors', 'r') as f:\n",
    "    file = f.read()"
   ]
  },
  {
   "cell_type": "code",
   "execution_count": 92,
   "metadata": {},
   "outputs": [
    {
     "name": "stdout",
     "output_type": "stream",
     "text": [
      "['j=1_la=1_energy', '4.2910000e-01', '0.0000000e+00', '0.0000000e+00']\n",
      "['j=1_la=1_ch=1_rwa', '2.9065972e-01', '7.7725719e-01', '1.8436419e-01']\n",
      "['j=1_la=1_ch=2_rwa', '0.0000000e+00', '0.0000000e+00', '0.0000000e+00']\n",
      "['j=1_la=1_ch=3_rwa', '-0.0000000e+00', '0.0000000e+00', '0.0000000e+00']\n",
      "['j=1_la=2_energy', '2.1600000e+01', '0.0000000e+00', '0.0000000e+00']\n",
      "['j=1_la=2_ch=1_rwa', '-1.0084113e+00', '3.8121127e-01', '3.3325821e-01']\n",
      "['j=1_la=2_ch=2_rwa', '0.0000000e+00', '0.0000000e+00', '0.0000000e+00']\n",
      "['j=1_la=2_ch=3_rwa', '0.0000000e+00', '0.0000000e+00', '0.0000000e+00']\n",
      "['j=2_la=1_energy', '1.4000000e+01', '0.0000000e+00', '0.0000000e+00']\n",
      "['j=2_la=1_ch=1_rwa', '1.5922551e+00', '1.0552532e-02', '1.0769077e-02']\n",
      "['j=2_la=1_ch=2_rwa', '1.8390635e+00', '3.8989182e-01', '3.3372383e-01']\n",
      "['j=2_la=1_ch=3_rwa', '1.3013933e-01', '1.7640600e+00', '1.6894245e+00']\n",
      "['j=3_la=1_energy', '0.0000000e+00', '0.0000000e+00', '0.0000000e+00']\n",
      "['j=3_la=1_ch=1_rwa', '1.1838254e+00', '8.1599879e-02', '8.0322457e-02']\n",
      "['j=3_la=1_ch=2_rwa', '-0.0000000e+00', '0.0000000e+00', '0.0000000e+00']\n",
      "['j=3_la=1_ch=3_rwa', '0.0000000e+00', '0.0000000e+00', '0.0000000e+00']\n",
      "['j=3_la=2_energy', '2.1600000e+01', '0.0000000e+00', '0.0000000e+00']\n",
      "['j=3_la=2_ch=1_rwa', '-1.5899967e+00', '3.6337764e-01', '3.4682750e-01']\n",
      "['j=3_la=2_ch=2_rwa', '0.0000000e+00', '0.0000000e+00', '0.0000000e+00']\n",
      "['j=3_la=2_ch=3_rwa', '0.0000000e+00', '0.0000000e+00', '0.0000000e+00']\n",
      "['j=4_la=1_energy', '1.2000000e+01', '0.0000000e+00', '0.0000000e+00']\n",
      "['j=4_la=1_ch=1_rwa', '1.1144047e+00', '2.6611177e-02', '2.6353664e-02']\n",
      "['j=4_la=1_ch=2_rwa', '2.4227227e-01', '8.7656913e-01', '8.1415723e-01']\n",
      "['j=4_la=1_ch=3_rwa', '1.2222152e-01', '9.4383541e-01', '9.1285529e-01']\n",
      "['j=5_la=1_energy', '7.0000000e+00', '0.0000000e+00', '0.0000000e+00']\n",
      "['j=5_la=1_ch=1_rwa', '2.0216951e+00', '9.9893293e-02', '1.0973166e-01']\n",
      "['j=5_la=1_ch=2_rwa', '0.0000000e+00', '0.0000000e+00', '0.0000000e+00']\n",
      "['j=5_la=1_ch=3_rwa', '0.0000000e+00', '0.0000000e+00', '0.0000000e+00']\n",
      "['j=6_la=1_energy', '1.2000000e+01', '0.0000000e+00', '0.0000000e+00']\n",
      "['j=6_la=1_ch=1_rwa', '8.3262784e-01', '3.8556494e-02', '3.8632830e-02']\n",
      "['j=6_la=1_ch=2_rwa', '9.7902350e-01', '5.3405174e-01', '3.1149436e-01']\n",
      "['j=6_la=1_ch=3_rwa', '0.0000000e+00', '0.0000000e+00', '0.0000000e+00']\n",
      "['j=7_la=1_energy', '4.5798852e+00', '3.4322500e-03', '3.5232301e-03']\n",
      "['j=7_la=1_ch=1_rwa', '1.0025608e+00', '2.3252068e-02', '2.2739280e-02']\n",
      "['j=7_la=1_ch=2_rwa', '6.0774864e-01', '2.3769194e-01', '2.1870698e-01']\n",
      "['segment_9_norm', '9.6323759e-01', '1.7761700e-02', '1.7849085e-02']\n",
      "['segment_10_norm', '1.0442528e+00', '2.1686749e-02', '2.1924882e-02']\n",
      "['segment_11_norm', '9.9817068e-01', '1.9967193e-02', '1.9986749e-02']\n",
      "['segment_12_norm', '9.6252420e-01', '1.9101000e-02', '1.9241688e-02']\n",
      "['segment_13_norm', '9.5263801e-01', '2.0896989e-02', '2.1234836e-02']\n",
      "['segment_14_norm', '1.0001540e+00', '2.3510477e-02', '2.3912190e-02']\n",
      "['segment_16_norm', '1.0258724e+00', '5.5855136e-03', '5.6467250e-03']\n",
      "['segment_17_norm', '1.0782283e+00', '4.2580169e-03', '4.2916555e-03']\n",
      "['segment_18_norm', '9.3739121e-01', '2.4954903e-03', '2.5059638e-03']\n",
      "['segment_19_norm', '9.9736265e-01', '3.1036464e-03', '3.1079033e-03']\n",
      "['segment_20_norm', '9.9520093e-01', '3.1486407e-03', '3.1242201e-03']\n",
      "['segment_21_norm', '1.0311366e+00', '4.2692613e-03', '4.2187454e-03']\n",
      "['segment_22_norm', '1.0232857e+00', '4.1280721e-03', '4.0763159e-03']\n",
      "['segment_23_norm', '1.0551295e+00', '6.3022736e-03', '6.1635501e-03']\n",
      "['segment_24_norm', '1.0520126e+00', '7.8684154e-03', '7.6976867e-03']\n",
      "['segment_25_norm', '1.1587094e+00', '1.2325202e-02', '1.1859633e-02']\n"
     ]
    }
   ],
   "source": [
    "for l in list(filter(lambda l: l is not '', file.split('\\n'))):\n",
    "    print(l.split())"
   ]
  },
  {
   "cell_type": "code",
   "execution_count": 109,
   "metadata": {},
   "outputs": [],
   "source": [
    "class ParamErrors:\n",
    "    def __init__(self, filename):\n",
    "        self.params = []\n",
    "        with open(filename, 'r') as f:\n",
    "            self.lines = list(filter(lambda l: l is not '', f.read().split('\\n')))\n",
    "            for l in self.lines:\n",
    "                self.params.append(Param(l))\n",
    "\n",
    "class Param:\n",
    "    def __init__(self, line):\n",
    "        self.line  = line.split()\n",
    "        self.label = ParamLabel(self.line[0])\n",
    "        self.value = float(self.line[1])\n",
    "        self.plus  = float(self.line[2])\n",
    "        self.minus = float(self.line[3])\n",
    "        self.varied = (self.plus != 0 or self.minus != 0)\n",
    "        \n",
    "        \n",
    "class ParamLabel:\n",
    "    def __init__(self, label):\n",
    "        self.components = label.split('_')\n",
    "        self.type = self.components[-1]\n",
    "        s = self.components[0]\n",
    "        if self.type != 'norm':\n",
    "            self.j = int(s[2:])"
   ]
  },
  {
   "cell_type": "code",
   "execution_count": 110,
   "metadata": {},
   "outputs": [],
   "source": [
    "pe = ParamErrors('output/param.errors')"
   ]
  },
  {
   "cell_type": "code",
   "execution_count": null,
   "metadata": {},
   "outputs": [],
   "source": []
  }
 ],
 "metadata": {
  "kernelspec": {
   "display_name": "Python 3",
   "language": "python",
   "name": "python3"
  },
  "language_info": {
   "codemirror_mode": {
    "name": "ipython",
    "version": 3
   },
   "file_extension": ".py",
   "mimetype": "text/x-python",
   "name": "python",
   "nbconvert_exporter": "python",
   "pygments_lexer": "ipython3",
   "version": "3.7.4"
  }
 },
 "nbformat": 4,
 "nbformat_minor": 2
}
