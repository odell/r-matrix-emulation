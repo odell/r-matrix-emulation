{
 "cells": [
  {
   "cell_type": "markdown",
   "metadata": {},
   "source": [
    "# Generate Training Space\n",
    "\n",
    "For now, we will take the $R$-matrix parameter posteriors from a previous run to define training distributions. In the future, we would like to use AZURE2's bset fit and error estimates. Unfortunately, we want to sample ANCs. The best fit when ANCs are varied is pretty bad."
   ]
  },
  {
   "cell_type": "code",
   "execution_count": 1,
   "metadata": {},
   "outputs": [],
   "source": [
    "import os\n",
    "import sys\n",
    "import pickle\n",
    "from multiprocessing import Pool\n",
    "\n",
    "import numpy as np\n",
    "import matplotlib.pyplot as plt\n",
    "from scipy import stats\n",
    "\n",
    "import model\n",
    "\n",
    "sys.path.append('/home/odell/7Be')\n",
    "import run\n",
    "\n",
    "\n",
    "os.environ['OMP_NUM_THREADS'] = '1'"
   ]
  },
  {
   "cell_type": "code",
   "execution_count": 2,
   "metadata": {},
   "outputs": [],
   "source": [
    "with open('/spare/odell/7Be/CP/samples/model_1_2021-08-06-02-55-37.pkl', 'rb') as f:\n",
    "    run = pickle.load(f)"
   ]
  },
  {
   "cell_type": "code",
   "execution_count": 3,
   "metadata": {},
   "outputs": [],
   "source": [
    "flat_chain = run.get_flat_chain()[:, :-1]\n",
    "theta_star = run.get_theta_star(max_likelihood=False)"
   ]
  },
  {
   "cell_type": "code",
   "execution_count": 4,
   "metadata": {},
   "outputs": [],
   "source": [
    "ns, nd = flat_chain.shape"
   ]
  },
  {
   "cell_type": "code",
   "execution_count": 5,
   "metadata": {},
   "outputs": [
    {
     "data": {
      "text/plain": [
       "32"
      ]
     },
     "execution_count": 5,
     "metadata": {},
     "output_type": "execute_result"
    }
   ],
   "source": [
    "nd"
   ]
  },
  {
   "cell_type": "code",
   "execution_count": 6,
   "metadata": {
    "scrolled": true
   },
   "outputs": [],
   "source": [
    "# fig, ax = plt.subplots(nd, figsize=(3, nd*3))\n",
    "# fig.patch.set_facecolor('white')\n",
    "\n",
    "# for i in range(flat_chain.shape[1]):\n",
    "#     ax[i].plot(flat_chain[:, i], alpha=0.5)\n",
    "#     ax[i].axhline(theta_star[i], color='r')"
   ]
  },
  {
   "cell_type": "code",
   "execution_count": 7,
   "metadata": {},
   "outputs": [],
   "source": [
    "def characterize_dist(d):\n",
    "    low, med, high = np.quantile(d, [0.16, 0.5, 0.84])\n",
    "    upper = high - med\n",
    "    lower = med - low\n",
    "    sigma = np.max([upper, lower])\n",
    "    return med, sigma\n",
    "\n",
    "\n",
    "def construct_dist(d):\n",
    "    med, sigma = characterize_dist(d)\n",
    "    return stats.norm(med, sigma)"
   ]
  },
  {
   "cell_type": "code",
   "execution_count": 8,
   "metadata": {},
   "outputs": [],
   "source": [
    "distributions = [construct_dist(d) for d in flat_chain.T]"
   ]
  },
  {
   "cell_type": "code",
   "execution_count": 9,
   "metadata": {},
   "outputs": [],
   "source": [
    "rand_points = np.array([d.rvs(1000) for d in distributions]).T"
   ]
  },
  {
   "cell_type": "code",
   "execution_count": 10,
   "metadata": {},
   "outputs": [],
   "source": [
    "with Pool(processes=16) as pool:\n",
    "    samples = pool.map(model.calculate, rand_points)"
   ]
  },
  {
   "cell_type": "code",
   "execution_count": 13,
   "metadata": {},
   "outputs": [],
   "source": [
    "with Pool(processes=16) as pool:\n",
    "    posterior_samples = pool.map(model.calculate, flat_chain[-1000:, :])"
   ]
  },
  {
   "cell_type": "code",
   "execution_count": 14,
   "metadata": {},
   "outputs": [],
   "source": [
    "np.save('datfiles/rand_points.npy', rand_points)\n",
    "np.save('datfiles/rand_samples.npy', samples)\n",
    "\n",
    "np.save('datfiles/posterior_chain.npy', flat_chain[-1000:, :])\n",
    "np.save('datfiles/posterior_samples.npy', posterior_samples)\n",
    "\n",
    "np.save('datfiles/theta_star.npy', theta_star)"
   ]
  },
  {
   "cell_type": "code",
   "execution_count": null,
   "metadata": {},
   "outputs": [],
   "source": []
  }
 ],
 "metadata": {
  "kernelspec": {
   "display_name": "Python 3",
   "language": "python",
   "name": "python3"
  },
  "language_info": {
   "codemirror_mode": {
    "name": "ipython",
    "version": 3
   },
   "file_extension": ".py",
   "mimetype": "text/x-python",
   "name": "python",
   "nbconvert_exporter": "python",
   "pygments_lexer": "ipython3",
   "version": "3.7.4"
  }
 },
 "nbformat": 4,
 "nbformat_minor": 2
}
